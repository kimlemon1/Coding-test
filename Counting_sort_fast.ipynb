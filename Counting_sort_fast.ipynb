{
 "cells": [
  {
   "cell_type": "code",
   "execution_count": null,
   "metadata": {},
   "outputs": [],
   "source": [
    "import sys\n",
    "input = sys.stdin.readline\n",
    "\n",
    "n = int(input())\n",
    "ls = []\n",
    "for i in range(n):\n",
    "    ls.append(int(input()))\n",
    "\n",
    "ls.sort()\n",
    "for j in len(ls):\n",
    "    print(ls[j])\n"
   ]
  },
  {
   "cell_type": "code",
   "execution_count": null,
   "metadata": {},
   "outputs": [],
   "source": [
    "import sys\n",
    "input = sys.stdin.readline\n",
    "\n",
    "cnt_ls = [0] * 10001\n",
    "for _ in range(int(input())):\n",
    "    cnt_ls[int(input())] += 1\n",
    "\n",
    "for i in range(10001):\n",
    "    for _ in range(cnt_ls[i]): # 각 숫자의 개수\n",
    "        print(i)\n",
    "\n",
    "\n"
   ]
  },
  {
   "cell_type": "code",
   "execution_count": 2,
   "metadata": {},
   "outputs": [
    {
     "name": "stdout",
     "output_type": "stream",
     "text": [
      "[1, 2, 5, 5, 5, 7, 7]\n"
     ]
    }
   ],
   "source": [
    "# 7개 \n",
    "ls = [7, 5, 1, 5, 2, 7, 5]\n",
    "cnt_ls = [0] * (len(ls) + 1)\n",
    "for i in ls:\n",
    "    cnt_ls[i] += 1\n",
    "ans = []\n",
    "for j in range(len(ls)+1):\n",
    "    for _ in range(cnt_ls[j]):\n",
    "        ans.append(j)\n",
    "print(ans)\n",
    "\n",
    "\n"
   ]
  }
 ],
 "metadata": {
  "kernelspec": {
   "display_name": "cuda118",
   "language": "python",
   "name": "python3"
  },
  "language_info": {
   "codemirror_mode": {
    "name": "ipython",
    "version": 3
   },
   "file_extension": ".py",
   "mimetype": "text/x-python",
   "name": "python",
   "nbconvert_exporter": "python",
   "pygments_lexer": "ipython3",
   "version": "3.11.4"
  },
  "orig_nbformat": 4
 },
 "nbformat": 4,
 "nbformat_minor": 2
}
